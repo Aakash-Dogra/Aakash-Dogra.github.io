{
 "cells": [
  {
   "cell_type": "markdown",
   "metadata": {},
   "source": [
    "##  Data Visualization Assignment 4\n",
    "#### Group Members : Rajkumar Gosai, Nidhi Paliwal, Aakash Dogra"
   ]
  },
  {
   "cell_type": "markdown",
   "metadata": {},
   "source": [
    "### Question 1, Part 1 and Part 2"
   ]
  },
  {
   "cell_type": "markdown",
   "metadata": {},
   "source": [
    "In this question, we need to create an interactive scatter plot that allows the user to choose the variable for both X and Y axis, thus giving us possibilities of scatter plots on basis of the type of the variable selected. Since we need to consider at least 1 categorical and 1 numeric variable for both axes, the following code has been developed to provide an understanding of teh same."
   ]
  },
  {
   "cell_type": "markdown",
   "metadata": {},
   "source": [
    "#### Initially, we import the packages `matplotlib.colors`, `matplotlib.pyplot`, `pandas`, `numpy`, `ipywidgets`.\n",
    "The `ipywidgets`is a package used to create interactive widgets with any data. Widgets are eventful python objects that have a representation in the browser, often as a control like a slider, textbox, etc. In this case, we create dropdown menu for each axes, for the selection of variable type for the respective axes."
   ]
  },
  {
   "cell_type": "code",
   "execution_count": null,
   "metadata": {},
   "outputs": [],
   "source": [
    "%matplotlib inline\n",
    "# import matplotlib as mpl\n",
    "import matplotlib.colors as mpl_colors\n",
    "import matplotlib.pyplot as plt\n",
    "import numpy as np\n",
    "import pandas as pd\n",
    "import ipywidgets\n",
    "from ipywidgets import Layout"
   ]
  },
  {
   "cell_type": "markdown",
   "metadata": {},
   "source": [
    "Lets read the UFO csv file from teh respective location. This file does not contain column headers, thus we pass the same in the read command and parse the dates in teh dataset."
   ]
  },
  {
   "cell_type": "code",
   "execution_count": null,
   "metadata": {},
   "outputs": [],
   "source": [
    "ufos = pd.read_csv(\"ufo-scrubbed-geocoded-time-standardized-00.csv\",\n",
    "                  names=['date', 'city', 'state', 'country', \n",
    "                       'shape', 'duration_seconds', 'duration', \n",
    "                       'comment', 'report_date', 'latitude', 'longitude'],\n",
    "                  parse_dates=['date', 'report_date'])"
   ]
  },
  {
   "cell_type": "code",
   "execution_count": null,
   "metadata": {
    "scrolled": true
   },
   "outputs": [],
   "source": [
    "ufos.shape  # this is the shape of the file"
   ]
  },
  {
   "cell_type": "markdown",
   "metadata": {},
   "source": [
    "The empty and NaN values in certain columns in the dataset will be replaced with 'Unknown' to have a uniformity throughout the dataset."
   ]
  },
  {
   "cell_type": "code",
   "execution_count": null,
   "metadata": {},
   "outputs": [],
   "source": [
    "# process the data to turn it into strings from NaN's that are numbers\n",
    "ufos = ufos.fillna({'country':'unknown', 'state':'unknown', 'shape':'unknown'})"
   ]
  },
  {
   "cell_type": "markdown",
   "metadata": {},
   "source": [
    "Now we will subset the dataset and process only a small chunk of the data for the operations to be performed. We will downsize the data randomly by setting seed."
   ]
  },
  {
   "cell_type": "code",
   "execution_count": null,
   "metadata": {},
   "outputs": [],
   "source": [
    "np.random.seed(seed=42)\n",
    "nsamples = 1000\n",
    "downSampleMask = np.random.choice(range(len(ufos)-1), nsamples, replace=False)\n",
    "downSampleMask"
   ]
  },
  {
   "cell_type": "code",
   "execution_count": null,
   "metadata": {},
   "outputs": [],
   "source": [
    "ufos_sample = ufos.loc[downSampleMask]\n",
    "ufos_sample.head()  # downsized data"
   ]
  },
  {
   "cell_type": "markdown",
   "metadata": {},
   "source": [
    "#### Now we will define functions to display the data in the Widgets."
   ]
  },
  {
   "cell_type": "code",
   "execution_count": null,
   "metadata": {},
   "outputs": [],
   "source": [
    "def x_variable(ufos_sample): # for X_axis\n",
    "    return ([\"country\",\"state\",\"city\", \"latitude\",\"longitude\", 'date','shape', 'duration_seconds', 'duration', 'latitude', 'longitude'])"
   ]
  },
  {
   "cell_type": "code",
   "execution_count": null,
   "metadata": {},
   "outputs": [],
   "source": [
    "def y_variable(ufos_sample): # for Y_axis\n",
    "    return ([\"duration_seconds\",\"longitude\",\"latitude\",\"shape\", 'date', 'city', 'state', 'country', 'duration'])"
   ]
  },
  {
   "cell_type": "code",
   "execution_count": null,
   "metadata": {},
   "outputs": [],
   "source": [
    "def color(ufos_sample): # for Color Map\n",
    "    return([\"duration_seconds\",\"longitude\",\"latitude\",\"shape\", 'date', 'city', 'state', 'country', 'duration'])"
   ]
  },
  {
   "cell_type": "code",
   "execution_count": null,
   "metadata": {},
   "outputs": [],
   "source": [
    "np.log10(ufos_sample['duration_seconds'].max()) # checking the log values to cross check the graph"
   ]
  },
  {
   "cell_type": "code",
   "execution_count": null,
   "metadata": {
    "scrolled": true
   },
   "outputs": [],
   "source": [
    "ufos_sample['duration_seconds'].min() # checking the log values to cross check the graph"
   ]
  },
  {
   "cell_type": "markdown",
   "metadata": {},
   "source": [
    "#### Now we will perform the operation on the sample dataset which was downsized"
   ]
  },
  {
   "cell_type": "code",
   "execution_count": null,
   "metadata": {},
   "outputs": [],
   "source": [
    "x_axis=ipywidgets.Dropdown(options=(list(x_variable(ufos_sample))))\n",
    "y_axis=ipywidgets.Dropdown(options=(list(y_variable(ufos_sample))))\n",
    "color_map = ipywidgets.Dropdown(options=plt.colormaps())\n",
    "#style = ipywidgets.Dropdown(options=plt.style.available)\n",
    "color_scale_paramaeter =ipywidgets.Dropdown(options=(list(color(ufos_sample))),description=\"color_scale_paramaeter\", layout={'description_width': 'initial'})\n",
    "       \n",
    "def make_scatter_plot(x_axis,y_axis,color_map,color_scale_paramaeter):\n",
    "\n",
    "    \"\"\"\n",
    "    This fucntion will plot the scatter plot for the variables that will be selected from the widgets made. The parameter values are \n",
    "    passed in the function to get the desired output.\n",
    "    \"\"\"\n",
    "    # now we will take the log values for duration seconds as it has very large values\n",
    "    if color_scale_paramaeter == 'duration_seconds':\n",
    "        cv = np.log10(ufos_sample[color_scale_paramaeter])\n",
    "    else:\n",
    "        cv = ufos_sample[color_scale_paramaeter]\n",
    "    # This will make sure that only specific combinationsof x-axis and y-axis will be plotted on the graph.\n",
    "    if (ufos_sample[x_axis].dtype == np.float and ufos_sample[y_axis].dtype == np.float) | (ufos_sample[x_axis].dtype == np.object and ufos_sample[y_axis].dtype == np.float) | (ufos_sample[x_axis].dtype == np.float and ufos_sample[y_axis].dtype == np.object):\n",
    "        fig, ax = plt.subplots(figsize=(18,10))\n",
    "        plt.scatter(ufos_sample[x_axis], ufos_sample[y_axis], c=cv, cmap=color_map)\n",
    "        color_label = color_scale_paramaeter  \n",
    "        plt.title(\"UFO Data Analysis\")\n",
    "        plt.xlabel(x_axis)\n",
    "        plt.ylabel(y_axis)\n",
    "        cbar = plt.colorbar(extend=\"both\")\n",
    "        cbar.set_label(color_label)\n",
    "        plt.show()\n",
    "    else:\n",
    "        print (\"Please select One Categorical and One Numerical variable or Both Numerical variables.\")\n",
    "# this will link the widgets to the function define above.\n",
    "ipywidgets.interact(make_scatter_plot, x_axis=x_axis, y_axis=y_axis, color_map=color_map, color_scale_paramaeter=color_scale_paramaeter)"
   ]
  },
  {
   "cell_type": "code",
   "execution_count": null,
   "metadata": {},
   "outputs": [],
   "source": [
    "# plt.close('all')  # to close all the graphs"
   ]
  },
  {
   "cell_type": "code",
   "execution_count": null,
   "metadata": {},
   "outputs": [],
   "source": [
    "# let's print out the available plotting styles\n",
    "plt.style.available"
   ]
  },
  {
   "cell_type": "code",
   "execution_count": null,
   "metadata": {
    "scrolled": true
   },
   "outputs": [],
   "source": [
    "np.log10(ufos['duration_seconds'].max())"
   ]
  },
  {
   "cell_type": "code",
   "execution_count": null,
   "metadata": {},
   "outputs": [],
   "source": [
    "np.log10(ufos['duration_seconds'].min())"
   ]
  },
  {
   "cell_type": "code",
   "execution_count": null,
   "metadata": {},
   "outputs": [],
   "source": [
    "x_axis=ipywidgets.Dropdown(options=(list(x_variable(ufos))))\n",
    "y_axis=ipywidgets.Dropdown(options=(list(y_variable(ufos))))\n",
    "color_map = ipywidgets.Dropdown(options=plt.colormaps())\n",
    "#style = ipywidgets.Dropdown(options=plt.style.available)\n",
    "color_scale_paramaeter =ipywidgets.Dropdown(options=(list(color(ufos))))\n",
    "       \n",
    "def make_scatter_plot(x_axis,y_axis,color_map,color_scale_paramaeter):\n",
    "\n",
    "    \"\"\"\n",
    "    This function plots the scatter plot for the variables selected from the dropdown widgets created.\n",
    "    The parameter values are passed in the function to get the desired output.\n",
    "    \n",
    "    \"\"\"\n",
    "    # Taking the log values for duration seconds as it has very large values\n",
    "    if color_scale_paramaeter == 'duration_seconds':\n",
    "        cv = np.log10(ufos[color_scale_paramaeter])\n",
    "    else:\n",
    "        cv = ufos[color_scale_paramaeter]\n",
    "    # The following if-else statements will make sure that only specific combinationsof x-axis and y-axis will be plotted on the graph.\n",
    "    if (ufos[x_axis].dtype == np.float and ufos[y_axis].dtype == np.float) | (ufos[x_axis].dtype == np.object and ufos[y_axis].dtype == np.float) | (ufos[x_axis].dtype == np.float and ufos[y_axis].dtype == np.object):\n",
    "        fig, ax = plt.subplots(figsize=(18,10))\n",
    "        plt.scatter(ufos[x_axis], ufos[y_axis], c=cv, cmap=color_map)\n",
    "        color_label = color_scale_paramaeter  \n",
    "        plt.title(\"UFO Data Analysis\")\n",
    "        plt.xlabel(x_axis)\n",
    "        plt.ylabel(y_axis)\n",
    "        cbar = plt.colorbar(extend=\"both\")\n",
    "        cbar.set_label(color_label)\n",
    "        plt.show()\n",
    "    else:\n",
    "        print (\"Please select One Categorical and One Numerical variable or Both Numerical variables.\")\n",
    "# The following commmand will link the widgets to the function definition above.\n",
    "ipywidgets.interact(make_scatter_plot, x_axis=x_axis, y_axis=y_axis, color_map=color_map, color_scale_paramaeter=color_scale_paramaeter)"
   ]
  },
  {
   "cell_type": "markdown",
   "metadata": {},
   "source": [
    "As per the question, we have considered providing the user with all the fields, except 'comment','report_date' and 'date', of the dataset as options in the scatter plot.\n",
    "This allows the user to choose and understand why the choice does not provide a scatter plot as output, but provides a statement that states to \"Select One Categorical and One Numerical value or both numerical variables, for the axes.\"\n",
    "The reason for providing teh above mentioned columns, rather than just a selected ones (1 categorical, 1 numerical) is to make the user understand why a date-time format with numerical or \"categorical VS categorical\" graph cannot be plotted using scatter plot."
   ]
  },
  {
   "cell_type": "markdown",
   "metadata": {},
   "source": [
    "# Question 2"
   ]
  },
  {
   "cell_type": "markdown",
   "metadata": {},
   "source": [
    "In this question, we have been asked to create a widget that helps to visualize the data in a binnned, aggregated manner for any column of the dataset.\n",
    "Initially we tried to make the below changes and load the dataset for the histogram plotting, but being a large dataset, the execution time was way too high and threw an error for the same. thus, to make the execution simpler and visualize the data ina  better way."
   ]
  },
  {
   "cell_type": "markdown",
   "metadata": {},
   "source": [
    "We create a new column Year, in order to visualize the date data in binned, aggreagted manner. The following commands helps in creating a new column, Year, by splitting the date."
   ]
  },
  {
   "cell_type": "code",
   "execution_count": null,
   "metadata": {},
   "outputs": [],
   "source": [
    "ufos_sample['Year'] = ufos_sample['date'].apply(str).copy()\n",
    "ufos_sample['Year'] = ufos_sample.apply(lambda x: str(x).split()[0] for x in ufos_sample['date'])\n",
    "ufos_sample['Year'] = ufos_sample.apply(lambda x: str(x).split('-')[0] for x in ufos_sample['Year'])"
   ]
  },
  {
   "cell_type": "markdown",
   "metadata": {},
   "source": [
    "The same is done for getting the month number from the `date` column, using split() command(as done above)"
   ]
  },
  {
   "cell_type": "code",
   "execution_count": null,
   "metadata": {
    "scrolled": false
   },
   "outputs": [],
   "source": [
    "ufos_sample['Month_num'] = ufos_sample['date'].apply(str).copy()\n",
    "ufos_sample['Month_num'] = ufos_sample.apply(lambda x: str(x).split()[0] for x in ufos_sample['date'])\n",
    "ufos_sample['Month_num'] = ufos_sample.apply(lambda x: str(x).split('-')[1] for x in ufos_sample['Month_num'])\n",
    "ufos_sample"
   ]
  },
  {
   "cell_type": "markdown",
   "metadata": {},
   "source": [
    "We create a dictionary with different month names, with corresponding month number, to visualize the same."
   ]
  },
  {
   "cell_type": "code",
   "execution_count": null,
   "metadata": {},
   "outputs": [],
   "source": [
    "num_to_month = {'01':'Jan', '02':'Feb', '03':'Mar', '04':'Apr', '05':'May', '06':'Jun', '07':'Jul', '08':'Aug', '09':'Sep', '10':'Oct', '11':'Nov', '12':'Dec'}"
   ]
  },
  {
   "cell_type": "code",
   "execution_count": null,
   "metadata": {},
   "outputs": [],
   "source": [
    "ufos_sample['Month'] = ufos_sample['Month_num'].map(num_to_month)\n",
    "ufos_sample.drop('Month_num',axis=1, inplace=True)"
   ]
  },
  {
   "cell_type": "code",
   "execution_count": null,
   "metadata": {},
   "outputs": [],
   "source": [
    "# The number of options in the dropdown menu for the histogram\n",
    "def cat_var(x):\n",
    "    return x[['shape', 'state', 'country', 'city', 'date', 'duration_seconds', 'Year', 'Month']]"
   ]
  },
  {
   "cell_type": "code",
   "execution_count": null,
   "metadata": {},
   "outputs": [],
   "source": [
    "@ipywidgets.interact\n",
    "\n",
    "def plot_histogram(x_axis=list(cat_var(ufos_sample)), no_of_bins = ipywidgets.IntSlider(min=1, max=40, step=1, value=20)):\n",
    "    plt.figure(figsize=(14,8))\n",
    "    if x_axis=='duration_seconds':\n",
    "        bin_by = np.log10(ufos_sample['duration_seconds'])\n",
    "        plt.hist(bin_by, bins=no_of_bins)\n",
    "\n",
    "    \n",
    "    else:\n",
    "        bin_by=x_axis\n",
    "        myseries = ufos_sample.groupby(bin_by)[bin_by].count()\n",
    "        x = myseries.index\n",
    "        y = myseries.values\n",
    "        plt.xticks(rotation=90)\n",
    "        plt.ylabel('Frequency')\n",
    "        plt.bar(x, y)"
   ]
  },
  {
   "cell_type": "markdown",
   "metadata": {},
   "source": [
    "The above graph depicts a widget that helps the user to decide the bin, another drop down menu helps the user to select the variable. The graph only changes the bins with variable datatype select as numerical."
   ]
  },
  {
   "cell_type": "code",
   "execution_count": null,
   "metadata": {},
   "outputs": [],
   "source": []
  }
 ],
 "metadata": {
  "kernelspec": {
   "display_name": "Python 3",
   "language": "python",
   "name": "python3"
  },
  "language_info": {
   "codemirror_mode": {
    "name": "ipython",
    "version": 3
   },
   "file_extension": ".py",
   "mimetype": "text/x-python",
   "name": "python",
   "nbconvert_exporter": "python",
   "pygments_lexer": "ipython3",
   "version": "3.6.5"
  }
 },
 "nbformat": 4,
 "nbformat_minor": 2
}
